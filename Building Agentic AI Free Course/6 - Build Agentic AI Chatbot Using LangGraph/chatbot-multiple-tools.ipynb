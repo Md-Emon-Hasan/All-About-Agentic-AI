{
 "cells": [
  {
   "cell_type": "markdown",
   "id": "17d8b995",
   "metadata": {},
   "source": [
    "## ***Tools***"
   ]
  },
  {
   "cell_type": "code",
   "execution_count": 1,
   "id": "6b8085a2",
   "metadata": {},
   "outputs": [],
   "source": [
    "from langchain_community.tools import ArxivQueryRun\n",
    "from langchain_community.tools import WikipediaQueryRun\n",
    "from langchain_community.utilities import WikipediaAPIWrapper\n",
    "from langchain_community.utilities import ArxivAPIWrapper"
   ]
  },
  {
   "cell_type": "code",
   "execution_count": 2,
   "id": "49e57c00",
   "metadata": {},
   "outputs": [],
   "source": [
    "api_wrapper_arxiv=ArxivAPIWrapper(top_k_results=2,doc_content_chars_max=500)"
   ]
  },
  {
   "cell_type": "code",
   "execution_count": 3,
   "id": "07974c4b",
   "metadata": {},
   "outputs": [],
   "source": [
    "arxiv=ArxivQueryRun(api_wrapper=api_wrapper_arxiv,description=\"Query arxiv papers\")"
   ]
  },
  {
   "cell_type": "code",
   "execution_count": 4,
   "id": "fe653c32",
   "metadata": {},
   "outputs": [
    {
     "name": "stdout",
     "output_type": "stream",
     "text": [
      "arxiv\n"
     ]
    }
   ],
   "source": [
    "print(arxiv.name)"
   ]
  },
  {
   "cell_type": "code",
   "execution_count": 5,
   "id": "de67ca5e",
   "metadata": {},
   "outputs": [
    {
     "data": {
      "text/plain": [
       "'Published: 2023-05-23\\nTitle: Fast and energy-efficient non-volatile III-V-on-silicon photonic phase shifter based on memristors\\nAuthors: Zhuoran Fang, Bassem Tossoun, Antoine Descos, Di Liang, Xue Huang, Geza Kurczveil, Arka Majumdar, Raymond G. Beausoleil\\nSummary: Silicon photonics has evolved from lab research to commercial products in the\\npast decade as it plays an increasingly crucial role in data communication for\\nnext-generation data centers and high performance computing1. Recently,\\nprogr'"
      ]
     },
     "execution_count": 5,
     "metadata": {},
     "output_type": "execute_result"
    }
   ],
   "source": [
    "arxiv.invoke(\"What is the latest research on quantum computing?\")"
   ]
  },
  {
   "cell_type": "code",
   "execution_count": 6,
   "id": "98dd8dc3",
   "metadata": {},
   "outputs": [],
   "source": [
    "api_wrapper_wiki=WikipediaAPIWrapper(top_k_results=1,doc_content_chars_max=500)"
   ]
  },
  {
   "cell_type": "code",
   "execution_count": 7,
   "id": "50db38d4",
   "metadata": {},
   "outputs": [],
   "source": [
    "wiki=WikipediaQueryRun(api_wrapper=api_wrapper_wiki)"
   ]
  },
  {
   "cell_type": "code",
   "execution_count": 8,
   "id": "6353ac31",
   "metadata": {},
   "outputs": [
    {
     "data": {
      "text/plain": [
       "'wikipedia'"
      ]
     },
     "execution_count": 8,
     "metadata": {},
     "output_type": "execute_result"
    }
   ],
   "source": [
    "wiki.name"
   ]
  },
  {
   "cell_type": "code",
   "execution_count": 9,
   "id": "ca5632d3",
   "metadata": {},
   "outputs": [],
   "source": [
    "from dotenv import load_dotenv"
   ]
  },
  {
   "cell_type": "code",
   "execution_count": 10,
   "id": "aca6e40d",
   "metadata": {},
   "outputs": [
    {
     "data": {
      "text/plain": [
       "True"
      ]
     },
     "execution_count": 10,
     "metadata": {},
     "output_type": "execute_result"
    }
   ],
   "source": [
    "load_dotenv()"
   ]
  },
  {
   "cell_type": "code",
   "execution_count": 11,
   "id": "b8122ecd",
   "metadata": {},
   "outputs": [],
   "source": [
    "import os"
   ]
  },
  {
   "cell_type": "code",
   "execution_count": 13,
   "id": "f17191ca",
   "metadata": {},
   "outputs": [],
   "source": [
    "os.environ[\"TAVILY_API_KEY\"]=os.getenv(\"TAVILY_API_KEY\",\"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\")\n",
    "os.environ[\"GROQ_API_KEY\"]=os.getenv(\"GROQ_API_KEY\",\"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\")\n",
    "# os.environ[\"GOOGLE_API_KEY\"]=os.getenv(\"GOOGLE_API_KEY\",\"gsk_iI9hNRviwQexwwulSAQbWGdyb3FYLO3h6EGyourKsZ2KP8vXPxb9)"
   ]
  },
  {
   "cell_type": "code",
   "execution_count": 14,
   "id": "a40bba27",
   "metadata": {},
   "outputs": [],
   "source": [
    "from langchain_community.tools.tavily_search import TavilySearchResults"
   ]
  },
  {
   "cell_type": "code",
   "execution_count": 15,
   "id": "37c73b41",
   "metadata": {},
   "outputs": [],
   "source": [
    "tavily = TavilySearchResults()"
   ]
  },
  {
   "cell_type": "code",
   "execution_count": 16,
   "id": "2ff13ca2",
   "metadata": {},
   "outputs": [
    {
     "data": {
      "text/plain": [
       "[{'title': 'What is a GOAT in football?',\n",
       "  'url': 'https://m.allfootballapp.com/news/Depth/What-is-a-GOAT-in-football/1017389',\n",
       "  'content': \"As the name suggests, the GOAT is not only deemed to be better than all of their contemporaries, but better than everyone who has gone before them as well.\\n\\nWho is the GOAT in football?\\n\\n\\n\\nFootball's GOAT is a matter of continuous debate within the community, but the consensus in recent years has narrowed the question down to one of two players: Ronaldo or Messi. [...] GOAT (or G.O.A.T.) is an acronym which stands for 'greatest of all time'. It is a tag which is reserved for the individual who is deemed to be the undisputed master of their sport.\\n\\nAs well as exceptional talent, in order to be considered the GOAT, the individual must also maintain a consistent high level of achievement. [...] The dominance of Messi and Ronaldo over the past decade has reduced other iconic football figures to mere afterthoughts, but plenty still lay claim to the title of GOAT.\\n\\nMessi's compatriot Diego Maradona, a World Cup winner with Argentina in 1986 who shone at Barcelona and Napoli, is one example, though interestingly, Maradona considers Messi to be his heir and has proclaimed the Rosario native to be the greatest.\",\n",
       "  'score': 0.8131201},\n",
       " {'title': 'Who is the goat of football history? - Quora',\n",
       "  'url': 'https://www.quora.com/Who-is-the-goat-of-football-history',\n",
       "  'content': 'Lionel Messi of Argentina is undoubtedly the GOAT of football in the 21st century. The acronym GOAT stands for Greatest of All Time and Messi is',\n",
       "  'score': 0.80698997},\n",
       " {'title': 'Cristiano Ronaldo: The GOAT of Football Explained - TikTok',\n",
       "  'url': 'https://www.tiktok.com/@goalglobal/video/7478297932593237270',\n",
       "  'content': '66.7K Likes, 1457 Comments. TikTok video from GOAL (@goalglobal): “Discover why Cristiano Ronaldo is hailed as the GOAT in football.',\n",
       "  'score': 0.7935067},\n",
       " {'title': 'Who is the GOAT? - 90Min.com',\n",
       "  'url': 'https://www.90min.com/who-is-the-goat',\n",
       "  'content': \"While there remains incredibly little to separate these two legends, the stats and awards suggest Messi is the GOAT. Many of the world's greatest ever professionals are in agreement, although Ronaldo is a close number two in the rankings.\\n\\nHowever, they remain two very different players. Ronaldo's athleticism and work ethic clash with Messi's genius and natural talent, with the real winner of the debate coming down to each football fan's personal preference. [...] Who is the GOAT?\\n\\nBy Ewan Ross-Murray  | Oct 11, 2024, 5:11 PM GMT+1\\n\\nWhen the debate arises over the greatest of all time, only two names normally crop up: Lionel Messi and Cristiano Ronaldo.\\n\\nThe two superstars are undoubtedly the best players the 21st century has seen and have often had to share the limelight as they attempted to one-up each other on the field with their genius. While their powers have waned in recent years, they still steal attention wherever they go. [...] There are very few names thrown into the mix for the greatest player of all time. The likes of Pele, Diego Maradona and Johan Cruyff will receive their share of mentions, but most former players and managers believe Messi and Ronaldo are the best football has ever witnessed.\",\n",
       "  'score': 0.776708},\n",
       " {'title': 'Cristiano Ronaldo vs Lionel Messi: Who is better and is the GOAT in ...',\n",
       "  'url': 'https://www.goal.com/en-us/news/cristiano-ronaldo-vs-lionel-messi-who-is-the-goat-football-stats-head-to-head-showdown/ual7d33i8hjz14plhwkf2yvkr',\n",
       "  'content': \"Cristiano Ronaldo vs Lionel Messi: Who is better and is the GOAT in football? The stats head-to-head showdown\\n\\nA serious discussion point on five-a-side pitches and barstools across the world, the issue of which player is the greatest of all time persists\\n\\nCristiano Ronaldo versus Lionel Messi - who is the GOAT?\\xa0It is the biggest conundrum in football since the 'Diego Maradona or Pele?' debate. [...] The fact that Messi creates so many goals as well as scoring them is a major consideration when deciding which player is the GOAT and, while Ronaldo chips in with his fair share, the difference in this particular realm is stark.\\n\\nCristiano Ronaldo vs Lionel Messi: Champions League\\xa0stats\\n\\nCristiano Ronaldo | Champions League stat | Lionel Messi\\n183 | Appearances | 163\\n140 | Goals | 129\\n0.77 | Goals per game | 0.79\\n*As of Champions League games played in 2022-23. [...] Messi is still a long way behind Ronaldo in that respect, though he is by some distance Argentina's top goal-scorer of all time, surpassing the great Gabriel Batistuta some years ago. The duo are now the top two goal scorers in international football history.\\n\\nCristiano Ronaldo vs Lionel Messi: Titles\",\n",
       "  'score': 0.69795954}]"
      ]
     },
     "execution_count": 16,
     "metadata": {},
     "output_type": "execute_result"
    }
   ],
   "source": [
    "tavily.invoke(\"who is goat in football?\")"
   ]
  },
  {
   "cell_type": "markdown",
   "id": "68c31f82",
   "metadata": {},
   "source": [
    "## ***Chatbots With Tools***"
   ]
  },
  {
   "cell_type": "code",
   "execution_count": 17,
   "id": "9e4aa7ff",
   "metadata": {},
   "outputs": [],
   "source": [
    "tools = [arxiv, wiki, tavily]"
   ]
  },
  {
   "cell_type": "markdown",
   "id": "2dd51741",
   "metadata": {},
   "source": [
    "## ***Initialize the LLM Model***"
   ]
  },
  {
   "cell_type": "code",
   "execution_count": null,
   "id": "003a525f",
   "metadata": {},
   "outputs": [
    {
     "name": "stdout",
     "output_type": "stream",
     "text": [
      "Quantum computing is a new way of processing information that's different from the classical computers we use today. Here's a simplified explanation:\n",
      "\n",
      "**Classical Computers:**\n",
      "Classical computers use \"bits\" to process information. A bit is like a coin that can either be heads (0) or tails (1). These bits are used to perform calculations and store data.\n",
      "\n",
      "**Quantum Computers:**\n",
      "Quantum computers use \"qubits\" (quantum bits) instead of bits. Qubits are special because they can exist in many states at the same time, like being both heads AND tails simultaneously. This property is called \"superposition.\"\n",
      "\n",
      "Imagine a coin that can be both heads and tails at the same time. This allows quantum computers to process a vast number of possibilities simultaneously, making them much faster than classical computers for certain types of calculations.\n",
      "\n",
      "**How it Works:**\n",
      "Quantum computers use the principles of quantum mechanics to perform calculations. They can:\n",
      "\n",
      "1. Process multiple possibilities simultaneously (superposition)\n",
      "2. Become \"entangled\" with other qubits, allowing them to affect each other even if they're separated by large distances\n",
      "3. Use quantum gates (like quantum versions of logic gates) to manipulate qubits and perform calculations\n",
      "\n",
      "**What it Means:**\n",
      "Quantum computing has the potential to solve complex problems that are currently unsolvable or require an unfeasible amount of time to solve with classical computers. This could lead to breakthroughs in fields like:\n",
      "\n",
      "* Cryptography (secure communication)\n",
      "* Optimization (finding the best solution among many possibilities)\n",
      "* Simulation (modeling complex systems, like molecules or climate systems)\n",
      "* Machine Learning (improving AI models)\n",
      "\n",
      "**In Simple Terms:**\n",
      "Quantum computing is a new way of processing information that uses special \"qubits\" to perform calculations. These qubits can exist in many states at the same time, making quantum computers much faster than classical computers for certain types of calculations. This technology has the potential to solve complex problems and lead to breakthroughs in various fields.\n"
     ]
    }
   ],
   "source": [
    "from langchain_groq import ChatGroq\n",
    "from langchain_core.messages import HumanMessage\n",
    "\n",
    "# ✅ Set your Groq API Key (replace with your actual key)\n",
    "import os\n",
    "os.environ[\"GROQ_API_KEY\"] = \"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\"\n",
    "\n",
    "# ✅ Initialize the LLM using Groq (recommended model: `mixtral-8x7b`)\n",
    "llm = ChatGroq(\n",
    "    groq_api_key=os.environ[\"GROQ_API_KEY\"],\n",
    "    model_name=\"llama-3.3-70b-versatile\",  # You can also try `llama3-70b-8192` or `gemma-7b-it`\n",
    ")\n",
    "# llm=ChatGroq(model=\"llama-3.3-70b-versatile\")\n",
    "\n",
    "# ✅ Example prompt\n",
    "response = llm.invoke([\n",
    "    HumanMessage(content=\"Tell me about quantum computing in simple terms.\")\n",
    "])\n",
    "\n",
    "# ✅ Print the output\n",
    "print(response.content)"
   ]
  },
  {
   "cell_type": "code",
   "execution_count": 36,
   "id": "4f302ea0",
   "metadata": {},
   "outputs": [],
   "source": [
    "llm_with_tools=llm.bind_tools(tools=tools)"
   ]
  },
  {
   "cell_type": "code",
   "execution_count": null,
   "id": "03c5b9c6",
   "metadata": {},
   "outputs": [
    {
     "data": {
      "text/plain": [
       "AIMessage(content='', additional_kwargs={'tool_calls': [{'id': 'call_51g4', 'function': {'arguments': '{\"query\": \"recent news on AI\"}', 'name': 'tavily_search_results_json'}, 'type': 'function'}]}, response_metadata={'token_usage': {'completion_tokens': 21, 'prompt_tokens': 461, 'total_tokens': 482, 'completion_time': 0.076363636, 'prompt_time': 0.067352193, 'queue_time': 0.219325233, 'total_time': 0.143715829}, 'model_name': 'llama-3.3-70b-versatile', 'system_fingerprint': 'fp_6507bcfb6f', 'finish_reason': 'tool_calls', 'logprobs': None}, id='run-87d32fb1-2034-4058-933e-3db7070b2e47-0', tool_calls=[{'name': 'tavily_search_results_json', 'args': {'query': 'recent news on AI'}, 'id': 'call_51g4', 'type': 'tool_call'}], usage_metadata={'input_tokens': 461, 'output_tokens': 21, 'total_tokens': 482})"
      ]
     },
     "execution_count": 37,
     "metadata": {},
     "output_type": "execute_result"
    }
   ],
   "source": [
    "llm_with_tools.invoke(\"What is the recent news on AI?\")"
   ]
  },
  {
   "cell_type": "code",
   "execution_count": 38,
   "id": "2cffdfe4",
   "metadata": {},
   "outputs": [
    {
     "data": {
      "text/plain": [
       "AIMessage(content='', additional_kwargs={'tool_calls': [{'id': 'call_f055', 'function': {'arguments': '{\"query\": \"quantum computing\"}', 'name': 'arxiv'}, 'type': 'function'}]}, response_metadata={'token_usage': {'completion_tokens': 17, 'prompt_tokens': 462, 'total_tokens': 479, 'completion_time': 0.061818182, 'prompt_time': 0.02906438, 'queue_time': 0.218646337, 'total_time': 0.090882562}, 'model_name': 'llama-3.3-70b-versatile', 'system_fingerprint': 'fp_9a8b91ba77', 'finish_reason': 'tool_calls', 'logprobs': None}, id='run-9d519d69-a658-428b-8763-b62961aafad6-0', tool_calls=[{'name': 'arxiv', 'args': {'query': 'quantum computing'}, 'id': 'call_f055', 'type': 'tool_call'}], usage_metadata={'input_tokens': 462, 'output_tokens': 17, 'total_tokens': 479})"
      ]
     },
     "execution_count": 38,
     "metadata": {},
     "output_type": "execute_result"
    }
   ],
   "source": [
    "llm_with_tools.invoke(\"What is the latest research on quantum computing?\")"
   ]
  },
  {
   "cell_type": "code",
   "execution_count": 39,
   "id": "764385c3",
   "metadata": {},
   "outputs": [
    {
     "data": {
      "text/plain": [
       "AIMessage(content='<function=wikipedia{\"query\": \"machine learning\"}</function>', additional_kwargs={}, response_metadata={'token_usage': {'completion_tokens': 15, 'prompt_tokens': 458, 'total_tokens': 473, 'completion_time': 0.068780603, 'prompt_time': 0.029415967, 'queue_time': 0.054722622, 'total_time': 0.09819657}, 'model_name': 'llama-3.3-70b-versatile', 'system_fingerprint': 'fp_3f3b593e33', 'finish_reason': 'stop', 'logprobs': None}, id='run-85e124b9-9ddd-4a96-92c4-826615bffd92-0', usage_metadata={'input_tokens': 458, 'output_tokens': 15, 'total_tokens': 473})"
      ]
     },
     "execution_count": 39,
     "metadata": {},
     "output_type": "execute_result"
    }
   ],
   "source": [
    "llm_with_tools.invoke(\"What is machine learning?\")"
   ]
  },
  {
   "cell_type": "markdown",
   "id": "23ab1bcf",
   "metadata": {},
   "source": [
    "## **Workflow**"
   ]
  },
  {
   "cell_type": "code",
   "execution_count": 40,
   "id": "a246e9b7",
   "metadata": {},
   "outputs": [],
   "source": [
    "from typing_extensions import TypedDict\n",
    "from langchain_core.messages import AnyMessage\n",
    "from typing import Annotated\n",
    "from langgraph.graph.message import add_messages"
   ]
  },
  {
   "cell_type": "code",
   "execution_count": 41,
   "id": "51210aff",
   "metadata": {},
   "outputs": [],
   "source": [
    "class State(TypedDict):\n",
    "    messages: Annotated[list[AnyMessage],add_messages]"
   ]
  },
  {
   "cell_type": "markdown",
   "id": "d1be6551",
   "metadata": {},
   "source": [
    "## **Entire Chatbot With LangGraph**"
   ]
  },
  {
   "cell_type": "code",
   "execution_count": 42,
   "id": "204e0242",
   "metadata": {},
   "outputs": [],
   "source": [
    "from IPython.display import Image, display\n",
    "from langgraph.graph import StateGraph, START, END\n",
    "from langgraph.prebuilt import ToolNode\n",
    "from langgraph.prebuilt import tools_condition"
   ]
  },
  {
   "cell_type": "markdown",
   "id": "9f6e803e",
   "metadata": {},
   "source": [
    "## **Node Defination**"
   ]
  },
  {
   "cell_type": "code",
   "execution_count": 43,
   "id": "e6fd53a4",
   "metadata": {},
   "outputs": [],
   "source": [
    "def tool_calling_llm(state: State):\n",
    "    return {\"messages\": [llm.invoke(state[\"messages\"])]}"
   ]
  },
  {
   "cell_type": "markdown",
   "id": "9f398e99",
   "metadata": {},
   "source": [
    "## **Build Graph**"
   ]
  },
  {
   "cell_type": "code",
   "execution_count": 44,
   "id": "4f365bfe",
   "metadata": {},
   "outputs": [
    {
     "data": {
      "text/plain": [
       "<langgraph.graph.state.StateGraph at 0x12ce4c666d0>"
      ]
     },
     "execution_count": 44,
     "metadata": {},
     "output_type": "execute_result"
    }
   ],
   "source": [
    "builder = StateGraph(State)\n",
    "builder.add_node(\"tool_calling_llm\", tool_calling_llm)\n",
    "builder.add_node(\"tools\", ToolNode(tools=tools))"
   ]
  },
  {
   "cell_type": "markdown",
   "id": "adcf5246",
   "metadata": {},
   "source": [
    "## **Edgess**"
   ]
  },
  {
   "cell_type": "code",
   "execution_count": 45,
   "id": "b4673cfb",
   "metadata": {},
   "outputs": [
    {
     "data": {
      "text/plain": [
       "<langgraph.graph.state.StateGraph at 0x12ce4c666d0>"
      ]
     },
     "execution_count": 45,
     "metadata": {},
     "output_type": "execute_result"
    }
   ],
   "source": [
    "builder.add_edge(START, \"tool_calling_llm\")\n",
    "builder.add_conditional_edges(\n",
    "    \"tool_calling_llm\",\n",
    "    # If the latest message (result) from assistant is a tool call -> tools_condition routes to tools\n",
    "    # If the latest message (result) from assistant is a not a tool call -> tools_condition routes to END\n",
    "    tools_condition,\n",
    ")\n",
    "builder.add_edge(\"tools\", END)"
   ]
  },
  {
   "cell_type": "code",
   "execution_count": 46,
   "id": "215e5df8",
   "metadata": {},
   "outputs": [],
   "source": [
    "graph = builder.compile()"
   ]
  },
  {
   "cell_type": "code",
   "execution_count": 47,
   "id": "93fadbfa",
   "metadata": {},
   "outputs": [
    {
     "ename": "ValueError",
     "evalue": "Failed to reach https://mermaid.ink/ API while trying to render your graph. Status code: 400.\n\nTo resolve this issue:\n1. Check your internet connection and try again\n2. Try with higher retry settings: `draw_mermaid_png(..., max_retries=5, retry_delay=2.0)`\n3. Use the Pyppeteer rendering method which will render your graph locally in a browser: `draw_mermaid_png(..., draw_method=MermaidDrawMethod.PYPPETEER)`",
     "output_type": "error",
     "traceback": [
      "\u001b[1;31m---------------------------------------------------------------------------\u001b[0m",
      "\u001b[1;31mValueError\u001b[0m                                Traceback (most recent call last)",
      "Cell \u001b[1;32mIn[47], line 2\u001b[0m\n\u001b[0;32m      1\u001b[0m \u001b[38;5;66;03m# view\u001b[39;00m\n\u001b[1;32m----> 2\u001b[0m display(Image(\u001b[43mgraph\u001b[49m\u001b[38;5;241;43m.\u001b[39;49m\u001b[43mget_graph\u001b[49m\u001b[43m(\u001b[49m\u001b[43m)\u001b[49m\u001b[38;5;241;43m.\u001b[39;49m\u001b[43mdraw_mermaid_png\u001b[49m\u001b[43m(\u001b[49m\u001b[43m)\u001b[49m))\n",
      "File \u001b[1;32mc:\\Users\\emon1\\AppData\\Local\\Programs\\Python\\Python311\\Lib\\site-packages\\langchain_core\\runnables\\graph.py:683\u001b[0m, in \u001b[0;36mGraph.draw_mermaid_png\u001b[1;34m(self, curve_style, node_colors, wrap_label_n_words, output_file_path, draw_method, background_color, padding, max_retries, retry_delay, frontmatter_config)\u001b[0m\n\u001b[0;32m    675\u001b[0m \u001b[38;5;28;01mfrom\u001b[39;00m\u001b[38;5;250m \u001b[39m\u001b[38;5;21;01mlangchain_core\u001b[39;00m\u001b[38;5;21;01m.\u001b[39;00m\u001b[38;5;21;01mrunnables\u001b[39;00m\u001b[38;5;21;01m.\u001b[39;00m\u001b[38;5;21;01mgraph_mermaid\u001b[39;00m\u001b[38;5;250m \u001b[39m\u001b[38;5;28;01mimport\u001b[39;00m draw_mermaid_png\n\u001b[0;32m    677\u001b[0m mermaid_syntax \u001b[38;5;241m=\u001b[39m \u001b[38;5;28mself\u001b[39m\u001b[38;5;241m.\u001b[39mdraw_mermaid(\n\u001b[0;32m    678\u001b[0m     curve_style\u001b[38;5;241m=\u001b[39mcurve_style,\n\u001b[0;32m    679\u001b[0m     node_colors\u001b[38;5;241m=\u001b[39mnode_colors,\n\u001b[0;32m    680\u001b[0m     wrap_label_n_words\u001b[38;5;241m=\u001b[39mwrap_label_n_words,\n\u001b[0;32m    681\u001b[0m     frontmatter_config\u001b[38;5;241m=\u001b[39mfrontmatter_config,\n\u001b[0;32m    682\u001b[0m )\n\u001b[1;32m--> 683\u001b[0m \u001b[38;5;28;01mreturn\u001b[39;00m \u001b[43mdraw_mermaid_png\u001b[49m\u001b[43m(\u001b[49m\n\u001b[0;32m    684\u001b[0m \u001b[43m    \u001b[49m\u001b[43mmermaid_syntax\u001b[49m\u001b[38;5;241;43m=\u001b[39;49m\u001b[43mmermaid_syntax\u001b[49m\u001b[43m,\u001b[49m\n\u001b[0;32m    685\u001b[0m \u001b[43m    \u001b[49m\u001b[43moutput_file_path\u001b[49m\u001b[38;5;241;43m=\u001b[39;49m\u001b[43moutput_file_path\u001b[49m\u001b[43m,\u001b[49m\n\u001b[0;32m    686\u001b[0m \u001b[43m    \u001b[49m\u001b[43mdraw_method\u001b[49m\u001b[38;5;241;43m=\u001b[39;49m\u001b[43mdraw_method\u001b[49m\u001b[43m,\u001b[49m\n\u001b[0;32m    687\u001b[0m \u001b[43m    \u001b[49m\u001b[43mbackground_color\u001b[49m\u001b[38;5;241;43m=\u001b[39;49m\u001b[43mbackground_color\u001b[49m\u001b[43m,\u001b[49m\n\u001b[0;32m    688\u001b[0m \u001b[43m    \u001b[49m\u001b[43mpadding\u001b[49m\u001b[38;5;241;43m=\u001b[39;49m\u001b[43mpadding\u001b[49m\u001b[43m,\u001b[49m\n\u001b[0;32m    689\u001b[0m \u001b[43m    \u001b[49m\u001b[43mmax_retries\u001b[49m\u001b[38;5;241;43m=\u001b[39;49m\u001b[43mmax_retries\u001b[49m\u001b[43m,\u001b[49m\n\u001b[0;32m    690\u001b[0m \u001b[43m    \u001b[49m\u001b[43mretry_delay\u001b[49m\u001b[38;5;241;43m=\u001b[39;49m\u001b[43mretry_delay\u001b[49m\u001b[43m,\u001b[49m\n\u001b[0;32m    691\u001b[0m \u001b[43m\u001b[49m\u001b[43m)\u001b[49m\n",
      "File \u001b[1;32mc:\\Users\\emon1\\AppData\\Local\\Programs\\Python\\Python311\\Lib\\site-packages\\langchain_core\\runnables\\graph_mermaid.py:293\u001b[0m, in \u001b[0;36mdraw_mermaid_png\u001b[1;34m(mermaid_syntax, output_file_path, draw_method, background_color, padding, max_retries, retry_delay)\u001b[0m\n\u001b[0;32m    287\u001b[0m     img_bytes \u001b[38;5;241m=\u001b[39m asyncio\u001b[38;5;241m.\u001b[39mrun(\n\u001b[0;32m    288\u001b[0m         _render_mermaid_using_pyppeteer(\n\u001b[0;32m    289\u001b[0m             mermaid_syntax, output_file_path, background_color, padding\n\u001b[0;32m    290\u001b[0m         )\n\u001b[0;32m    291\u001b[0m     )\n\u001b[0;32m    292\u001b[0m \u001b[38;5;28;01melif\u001b[39;00m draw_method \u001b[38;5;241m==\u001b[39m MermaidDrawMethod\u001b[38;5;241m.\u001b[39mAPI:\n\u001b[1;32m--> 293\u001b[0m     img_bytes \u001b[38;5;241m=\u001b[39m \u001b[43m_render_mermaid_using_api\u001b[49m\u001b[43m(\u001b[49m\n\u001b[0;32m    294\u001b[0m \u001b[43m        \u001b[49m\u001b[43mmermaid_syntax\u001b[49m\u001b[43m,\u001b[49m\n\u001b[0;32m    295\u001b[0m \u001b[43m        \u001b[49m\u001b[43moutput_file_path\u001b[49m\u001b[38;5;241;43m=\u001b[39;49m\u001b[43moutput_file_path\u001b[49m\u001b[43m,\u001b[49m\n\u001b[0;32m    296\u001b[0m \u001b[43m        \u001b[49m\u001b[43mbackground_color\u001b[49m\u001b[38;5;241;43m=\u001b[39;49m\u001b[43mbackground_color\u001b[49m\u001b[43m,\u001b[49m\n\u001b[0;32m    297\u001b[0m \u001b[43m        \u001b[49m\u001b[43mmax_retries\u001b[49m\u001b[38;5;241;43m=\u001b[39;49m\u001b[43mmax_retries\u001b[49m\u001b[43m,\u001b[49m\n\u001b[0;32m    298\u001b[0m \u001b[43m        \u001b[49m\u001b[43mretry_delay\u001b[49m\u001b[38;5;241;43m=\u001b[39;49m\u001b[43mretry_delay\u001b[49m\u001b[43m,\u001b[49m\n\u001b[0;32m    299\u001b[0m \u001b[43m    \u001b[49m\u001b[43m)\u001b[49m\n\u001b[0;32m    300\u001b[0m \u001b[38;5;28;01melse\u001b[39;00m:\n\u001b[0;32m    301\u001b[0m     supported_methods \u001b[38;5;241m=\u001b[39m \u001b[38;5;124m\"\u001b[39m\u001b[38;5;124m, \u001b[39m\u001b[38;5;124m\"\u001b[39m\u001b[38;5;241m.\u001b[39mjoin([m\u001b[38;5;241m.\u001b[39mvalue \u001b[38;5;28;01mfor\u001b[39;00m m \u001b[38;5;129;01min\u001b[39;00m MermaidDrawMethod])\n",
      "File \u001b[1;32mc:\\Users\\emon1\\AppData\\Local\\Programs\\Python\\Python311\\Lib\\site-packages\\langchain_core\\runnables\\graph_mermaid.py:450\u001b[0m, in \u001b[0;36m_render_mermaid_using_api\u001b[1;34m(mermaid_syntax, output_file_path, background_color, file_type, max_retries, retry_delay)\u001b[0m\n\u001b[0;32m    445\u001b[0m     \u001b[38;5;66;03m# For other status codes, fail immediately\u001b[39;00m\n\u001b[0;32m    446\u001b[0m     msg \u001b[38;5;241m=\u001b[39m (\n\u001b[0;32m    447\u001b[0m         \u001b[38;5;124m\"\u001b[39m\u001b[38;5;124mFailed to reach https://mermaid.ink/ API while trying to render \u001b[39m\u001b[38;5;124m\"\u001b[39m\n\u001b[0;32m    448\u001b[0m         \u001b[38;5;124mf\u001b[39m\u001b[38;5;124m\"\u001b[39m\u001b[38;5;124myour graph. Status code: \u001b[39m\u001b[38;5;132;01m{\u001b[39;00mresponse\u001b[38;5;241m.\u001b[39mstatus_code\u001b[38;5;132;01m}\u001b[39;00m\u001b[38;5;124m.\u001b[39m\u001b[38;5;130;01m\\n\u001b[39;00m\u001b[38;5;130;01m\\n\u001b[39;00m\u001b[38;5;124m\"\u001b[39m\n\u001b[0;32m    449\u001b[0m     ) \u001b[38;5;241m+\u001b[39m error_msg_suffix\n\u001b[1;32m--> 450\u001b[0m     \u001b[38;5;28;01mraise\u001b[39;00m \u001b[38;5;167;01mValueError\u001b[39;00m(msg)\n\u001b[0;32m    452\u001b[0m \u001b[38;5;28;01mexcept\u001b[39;00m (requests\u001b[38;5;241m.\u001b[39mRequestException, requests\u001b[38;5;241m.\u001b[39mTimeout) \u001b[38;5;28;01mas\u001b[39;00m e:\n\u001b[0;32m    453\u001b[0m     \u001b[38;5;28;01mif\u001b[39;00m attempt \u001b[38;5;241m<\u001b[39m max_retries:\n\u001b[0;32m    454\u001b[0m         \u001b[38;5;66;03m# Exponential backoff with jitter\u001b[39;00m\n",
      "\u001b[1;31mValueError\u001b[0m: Failed to reach https://mermaid.ink/ API while trying to render your graph. Status code: 400.\n\nTo resolve this issue:\n1. Check your internet connection and try again\n2. Try with higher retry settings: `draw_mermaid_png(..., max_retries=5, retry_delay=2.0)`\n3. Use the Pyppeteer rendering method which will render your graph locally in a browser: `draw_mermaid_png(..., draw_method=MermaidDrawMethod.PYPPETEER)`"
     ]
    }
   ],
   "source": [
    "# view\n",
    "display(Image(graph.get_graph().draw_mermaid_png()))"
   ]
  },
  {
   "cell_type": "code",
   "execution_count": 48,
   "id": "d9b82192",
   "metadata": {},
   "outputs": [
    {
     "name": "stdout",
     "output_type": "stream",
     "text": [
      "================================\u001b[1m Human Message \u001b[0m=================================\n",
      "\n",
      "1706.03762\n",
      "==================================\u001b[1m Ai Message \u001b[0m==================================\n",
      "\n",
      "It appears you've provided a numerical string, possibly a code or identifier. Without more context, it's difficult to provide a specific answer. Could you please provide more information or clarify what this number refers to? Is it a:\n",
      "\n",
      "1. Mathematical or scientific constant?\n",
      "2. Code or identifier for a specific project or system?\n",
      "3. Version number or serial number?\n",
      "4. A number related to a research paper or publication (given the format, it resembles an arXiv ID)?\n",
      "\n",
      "With more details, I'd be happy to try and assist you further.\n"
     ]
    }
   ],
   "source": [
    "messages=graph.invoke({\"messages\":\"1706.03762\"})\n",
    "for m in messages['messages']:\n",
    "    m.pretty_print()"
   ]
  },
  {
   "cell_type": "code",
   "execution_count": 50,
   "id": "38781d2d",
   "metadata": {},
   "outputs": [
    {
     "name": "stdout",
     "output_type": "stream",
     "text": [
      "================================\u001b[1m Human Message \u001b[0m=================================\n",
      "\n",
      "My name is emon\n",
      "==================================\u001b[1m Ai Message \u001b[0m==================================\n",
      "\n",
      "Hello Emon, it's nice to meet you. Is there something I can help you with or would you like to chat?\n"
     ]
    }
   ],
   "source": [
    "messages=graph.invoke({\"messages\":\"My name is emon\"})\n",
    "for m in messages['messages']:\n",
    "    m.pretty_print()"
   ]
  },
  {
   "cell_type": "markdown",
   "id": "a063f2ac",
   "metadata": {},
   "source": [
    "## **Node definition**"
   ]
  },
  {
   "cell_type": "code",
   "execution_count": 51,
   "id": "3d3c8f59",
   "metadata": {},
   "outputs": [],
   "source": [
    "def tool_calling_llm(state:State):\n",
    "    return {\"messages\":[llm_with_tools.invoke(state[\"messages\"])]}"
   ]
  },
  {
   "cell_type": "markdown",
   "id": "76b3d5c8",
   "metadata": {},
   "source": [
    "## **Build graph**"
   ]
  },
  {
   "cell_type": "code",
   "execution_count": 52,
   "id": "5426dd2b",
   "metadata": {},
   "outputs": [
    {
     "data": {
      "text/plain": [
       "<langgraph.graph.state.StateGraph at 0x12ce4be3ad0>"
      ]
     },
     "execution_count": 52,
     "metadata": {},
     "output_type": "execute_result"
    }
   ],
   "source": [
    "builder = StateGraph(State)\n",
    "builder.add_node(\"tool_calling_llm\", tool_calling_llm)\n",
    "builder.add_node(\"tools\", ToolNode(tools))"
   ]
  },
  {
   "cell_type": "markdown",
   "id": "8f27bde8",
   "metadata": {},
   "source": [
    "## **Edges**"
   ]
  },
  {
   "cell_type": "code",
   "execution_count": 53,
   "id": "76ca5bfc",
   "metadata": {},
   "outputs": [
    {
     "data": {
      "text/plain": [
       "<langgraph.graph.state.StateGraph at 0x12ce4be3ad0>"
      ]
     },
     "execution_count": 53,
     "metadata": {},
     "output_type": "execute_result"
    }
   ],
   "source": [
    "builder.add_edge(START, \"tool_calling_llm\")\n",
    "builder.add_conditional_edges(\n",
    "    \"tool_calling_llm\",\n",
    "    # If the latest message (result) from assistant is a tool call -> tools_condition routes to tools\n",
    "    # If the latest message (result) from assistant is a not a tool call -> tools_condition routes to END\n",
    "    tools_condition,\n",
    ")\n",
    "builder.add_edge(\"tools\", \"tool_calling_llm\")"
   ]
  },
  {
   "cell_type": "code",
   "execution_count": 54,
   "id": "6883b470",
   "metadata": {},
   "outputs": [],
   "source": [
    "graph = builder.compile()"
   ]
  },
  {
   "cell_type": "code",
   "execution_count": 55,
   "id": "bd613ca9",
   "metadata": {},
   "outputs": [
    {
     "data": {
      "image/png": "[encoded data removed]",
      "text/plain": [
       "<IPython.core.display.Image object>"
      ]
     },
     "metadata": {},
     "output_type": "display_data"
    }
   ],
   "source": [
    "# View\n",
    "display(Image(graph.get_graph().draw_mermaid_png()))"
   ]
  },
  {
   "cell_type": "code",
   "execution_count": 56,
   "id": "148e0dac",
   "metadata": {},
   "outputs": [
    {
     "name": "stdout",
     "output_type": "stream",
     "text": [
      "================================\u001b[1m Human Message \u001b[0m=================================\n",
      "\n",
      "What is the recent AI news and then please tell me the recent research paper on quantum computing?\n",
      "==================================\u001b[1m Ai Message \u001b[0m==================================\n",
      "Tool Calls:\n",
      "  tavily_search_results_json (call_wv84)\n",
      " Call ID: call_wv84\n",
      "  Args:\n",
      "    query: recent AI news\n",
      "  arxiv (call_rztb)\n",
      " Call ID: call_rztb\n",
      "  Args:\n",
      "    query: recent research paper on quantum computing\n",
      "=================================\u001b[1m Tool Message \u001b[0m=================================\n",
      "Name: tavily_search_results_json\n",
      "\n",
      "[{\"title\": \"Artificial Intelligence - Latest AI News and Analysis - WSJ.com\", \"url\": \"https://www.wsj.com/tech/ai\", \"content\": \"The latest artificial intelligence news coverage focusing on the technology, tools and the companies building AI technology.\", \"score\": 0.7147281}, {\"title\": \"Artificial intelligence - NBC News\", \"url\": \"https://www.nbcnews.com/artificial-intelligence\", \"content\": \"NBC News NOW\\n\\n01:09\\n\\nChinese A.I. app shakes up Silicon Valley, causing Wall Street selloff\\n\\nNightly News\\n\\nMORE AI NEWS\\n\\nKicked out of Columbia, this student doesn't plan to stop trolling big tech with AI\\n\\nAI-generated Studio Ghibli memes are so popular they’re ‘melting’ ChatGPT\\n\\nTrump administration launching an AI tool for government use\\n\\nAI is turbocharging organized crime, E.U. police agency warns\\n\\nOpenAI urges U.S. to allow AI models to train on copyrighted material [...] Trump signs executive order to boost U.S. coal industry, in part to fuel artificial intelligence\\n\\nAI NEWS\\n\\nArtificial intelligence\\n\\nFake job seekers are flooding U.S. companies that are hiring remote, tech CEOs say\\n\\nArtificial intelligence\\n\\nPro-Palestinian protester interrupts Microsoft AI CEO during live event\\n\\nArtificial intelligence\\n\\nOpenAI funding round could be cut by $10B if for-profit conversion doesn't occur by year-end\\n\\nArtificial intelligence [...] NBC News NOW\\n\\n02:54\\n\\nA.I. chatbots becoming popular but worry privacy advocates\\n\\nNightly News\\n\\n03:15\\n\\nChristie's begins AI art auction amid backlash\\n\\nNBC News NOW\\n\\n02:16\\n\\nVance says U.S. will be the ‘gold standard’ of AI technology\\n\\n03:36\\n\\nAI startup DeepSeek causes buzz in China but draws global scrutiny over censorship and security\\n\\nNBC News NOW\\n\\n02:03\\n\\nA.I. leaders say China may have copied U.S. technology\\n\\nNightly News\\n\\n08:23\\n\\nNew Chinese A.I. tool 'DeepSeek' competes with American models\", \"score\": 0.69672287}, {\"title\": \"AI News | Latest AI News, Analysis & Events\", \"url\": \"https://www.artificialintelligence-news.com/\", \"content\": \"Google launches A2A as HyperCycle advances AI agent interoperability · Red Hat on open, small language models for responsible, practical AI · Meta FAIR advances\", \"score\": 0.68344116}, {\"title\": \"Latest AI news and blog posts - Google AI\", \"url\": \"https://ai.google/latest-news/\", \"content\": \"Read about the latest AI news and explore blogs for researchers, IT leaders, developers, and more.\", \"score\": 0.6599319}, {\"title\": \"Artificial intelligence | Massachusetts Institute of Technology\", \"url\": \"https://news.mit.edu/topic/artificial-intelligence2\", \"content\": \"New method efficiently safeguards sensitive AI training data\\n\\nThe approach maintains an AI model’s accuracy while ensuring attackers can’t extract secret information.\\n\\nApril 11, 2025\\n\\nRead full story →\\n\\nCould LLMs help design our next medicines and materials?\\n\\nA new method lets users ask, in plain language, for a new molecule with certain properties, and receive a detailed description of how to synthesize it.\\n\\nApril 9, 2025\\n\\nRead full story → [...] A faster way to solve complex planning problems\\n\\nBy eliminating redundant computations, a new data-driven method can streamline processes like scheduling trains, routing delivery drivers, or assigning airline crews.\\n\\nApril 16, 2025\\n\\nRead full story →\\n\\nTraining LLMs to self-detoxify their language\\n\\nA new method from the MIT-IBM Watson AI Lab helps large language models to steer their own responses toward safer, more ethical, value-aligned outputs.\\n\\nApril 14, 2025\\n\\nRead full story → [...] Vana is letting users own a piece of the AI models trained on their data\\n\\nMore than 1 million people are contributing their data to Vana’s decentralized network, which started as an MIT class project.\\n\\nApril 3, 2025\\n\\nRead full story →\\n\\nResearchers teach LLMs to solve complex planning challenges\\n\\nThis new framework leverages a model’s reasoning abilities to create a “smart assistant” that finds the optimal solution to multistep problems.\\n\\nApril 2, 2025\\n\\nRead full story →\", \"score\": 0.6543875}]\n",
      "=================================\u001b[1m Tool Message \u001b[0m=================================\n",
      "Name: arxiv\n",
      "\n",
      "Published: 2022-03-05\n",
      "Title: Towards an Antivirus for Quantum Computers\n",
      "Authors: Sanjay Deshpande, Chuanqi Xu, Theodoros Trochatos, Yongshan Ding, Jakub Szefer\n",
      "Summary: Researchers are today exploring models for cloud-based usage of quantum\n",
      "computers where multi-tenancy can be used to share quantum computer hardware\n",
      "among multiple users. Multi-tenancy has a promise of allowing better\n",
      "utilization of the quantum computer hardware, but also opens up the quantum\n",
      "computer to new types of security att\n",
      "==================================\u001b[1m Ai Message \u001b[0m==================================\n",
      "\n",
      "Recent AI news includes the development of new AI tools and technologies, such as chatbots and language models, as well as concerns about the potential risks and challenges associated with these technologies, such as privacy and security. \n",
      "\n",
      "A recent research paper on quantum computing is \"Towards an Antivirus for Quantum Computers\" by Sanjay Deshpande, Chuanqi Xu, Theodoros Trochatos, Yongshan Ding, and Jakub Szefer, published in 2022. The paper explores the idea of developing an antivirus for quantum computers, which could help to protect these systems from potential security threats.\n"
     ]
    }
   ],
   "source": [
    "messages=graph.invoke({\"messages\":\"What is the recent AI news and then please tell me the recent research paper on quantum computing?\"})\n",
    "for m in messages['messages']:\n",
    "    m.pretty_print()"
   ]
  }
 ],
 "metadata": {
  "kernelspec": {
   "display_name": "Python 3",
   "language": "python",
   "name": "python3"
  },
  "language_info": {
   "codemirror_mode": {
    "name": "ipython",
    "version": 3
   },
   "file_extension": ".py",
   "mimetype": "text/x-python",
   "name": "python",
   "nbconvert_exporter": "python",
   "pygments_lexer": "ipython3",
   "version": "3.11.9"
  }
 },
 "nbformat": 4,
 "nbformat_minor": 5
}
